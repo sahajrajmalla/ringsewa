{
 "cells": [
  {
   "cell_type": "code",
   "execution_count": 5,
   "metadata": {},
   "outputs": [
    {
     "name": "stdout",
     "output_type": "stream",
     "text": [
      "File uploaded successfully!\n",
      "Response Data: {'call_sid': '9840034078'}\n"
     ]
    }
   ],
   "source": [
    "import requests\n",
    "\n",
    "# http://localhost:8000/product/create/\n",
    "\n",
    "# API endpoint where you're uploading the file\n",
    "url = 'http://localhost:8000/product/create/'  # Change to your actual URL\n",
    "\n",
    "# Path to the audio file you want to upload\n",
    "audio_file_path = './pranshu.wav'  # Replace with actual file path\n",
    "\n",
    "# Data to send in the POST request (including other fields like 'call_sid')\n",
    "data = {\n",
    "    'call_sid': '9840034078',  # Replace with the actual call_sid you need\n",
    "}\n",
    "\n",
    "# Open the file in binary mode for upload\n",
    "with open(audio_file_path, 'rb') as audio_file:\n",
    "    # Prepare the files part for multipart/form-data request\n",
    "    files = {\n",
    "        'audio_url': audio_file,\n",
    "    }\n",
    "\n",
    "    # Send the POST request to the Django API\n",
    "    response = requests.post(url, data=data, files=files)\n",
    "\n",
    "# Check the response from the server\n",
    "if response.status_code == 201:\n",
    "    print(\"File uploaded successfully!\")\n",
    "    print(\"Response Data:\", response.json())  # This prints the server response\n",
    "else:\n",
    "    print(f\"Failed to upload file. Status code: {response.status_code}\")\n",
    "    print(\"Response:\", response.text)\n"
   ]
  },
  {
   "cell_type": "code",
   "execution_count": null,
   "metadata": {},
   "outputs": [],
   "source": []
  }
 ],
 "metadata": {
  "kernelspec": {
   "display_name": "base",
   "language": "python",
   "name": "python3"
  },
  "language_info": {
   "codemirror_mode": {
    "name": "ipython",
    "version": 3
   },
   "file_extension": ".py",
   "mimetype": "text/x-python",
   "name": "python",
   "nbconvert_exporter": "python",
   "pygments_lexer": "ipython3",
   "version": "3.9.12"
  }
 },
 "nbformat": 4,
 "nbformat_minor": 2
}
